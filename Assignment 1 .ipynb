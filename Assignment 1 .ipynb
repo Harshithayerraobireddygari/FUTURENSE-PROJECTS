{
  "nbformat": 4,
  "nbformat_minor": 0,
  "metadata": {
    "colab": {
      "provenance": []
    },
    "kernelspec": {
      "name": "python3",
      "display_name": "Python 3"
    },
    "language_info": {
      "name": "python"
    }
  },
  "cells": [
    {
      "cell_type": "code",
      "execution_count": 3,
      "metadata": {
        "colab": {
          "base_uri": "https://localhost:8080/"
        },
        "id": "81zp71yzcs4e",
        "outputId": "d69dfbcf-45e3-4704-d69d-bcbd201dc4d9"
      },
      "outputs": [
        {
          "output_type": "stream",
          "name": "stdout",
          "text": [
            "Enter the student's score (0-100): 70\n",
            "Grade: C\n"
          ]
        }
      ],
      "source": [
        "# taking input\n",
        "score = float(input(\"Enter the student's score (0-100): \"))\n",
        "\n",
        "# check whether the score is within the range (0-100)\n",
        "if score < 0 or score > 100:\n",
        "    print(\"Invalid score. Please enter a value between 0 and 100.\")\n",
        "else:\n",
        "    # Determine the grade\n",
        "    if score > 90:\n",
        "        grade = \"A\"\n",
        "    elif score >= 80:\n",
        "        grade = \"B\"\n",
        "    elif score >= 70:\n",
        "        grade = \"C\"\n",
        "    elif score >= 60:\n",
        "        grade = \"D\"\n",
        "    else:\n",
        "        grade = \"F\"\n",
        "\n",
        "    # Output the grade\n",
        "    print(f\"Grade: {grade}\")\n"
      ]
    },
    {
      "cell_type": "code",
      "source": [
        "# input for the total amount spent\n",
        "total_amount = float(input(\"Enter the total amount spent: \"))\n",
        "\n",
        "# Determine the discount rate based on the total amount\n",
        "if total_amount > 500:\n",
        "    discount_rate = 0.20  # 20% discount\n",
        "elif 200 <= total_amount <= 500:\n",
        "    discount_rate = 0.10  # 10% discount\n",
        "else:\n",
        "    discount_rate = 0  # No discount\n",
        "\n",
        "# Calculate the discount amount\n",
        "discount = total_amount * discount_rate\n",
        "\n",
        "# Calculate the final amount after discount\n",
        "final_amount = total_amount - discount\n",
        "\n",
        "# Output\n",
        "print(f\"Original amount: ${total_amount:.2f}\")\n",
        "print(f\"Discount applied: ${discount:.2f} ({discount_rate * 100}% off)\")\n",
        "print(f\"Final amount after discount: ${final_amount:.2f}\")\n"
      ],
      "metadata": {
        "colab": {
          "base_uri": "https://localhost:8080/"
        },
        "id": "6qFuOpGieGuo",
        "outputId": "5ee33ae7-1e8b-401f-a972-900bc166966a"
      },
      "execution_count": 4,
      "outputs": [
        {
          "output_type": "stream",
          "name": "stdout",
          "text": [
            "Enter the total amount spent: 350\n",
            "Original amount: $350.00\n",
            "Discount applied: $35.00 (10.0% off)\n",
            "Final amount after discount: $315.00\n"
          ]
        }
      ]
    },
    {
      "cell_type": "code",
      "source": [
        "#function to determine the zodiac sign based on the month and day\n",
        "def get_zodiac_sign(month, day):\n",
        "    if (month == 1 and day >= 20) or (month == 2 and day <= 18):\n",
        "        return \"Aquarius\"\n",
        "    elif (month == 2 and day >= 19) or (month == 3 and day <= 20):\n",
        "        return \"Pisces\"\n",
        "    elif (month == 3 and day >= 21) or (month == 4 and day <= 19):\n",
        "        return \"Aries\"\n",
        "    elif (month == 4 and day >= 20) or (month == 5 and day <= 20):\n",
        "        return \"Taurus\"\n",
        "    elif (month == 5 and day >= 21) or (month == 6 and day <= 20):\n",
        "        return \"Gemini\"\n",
        "    elif (month == 6 and day >= 21) or (month == 7 and day <= 22):\n",
        "        return \"Cancer\"\n",
        "    elif (month == 7 and day >= 23) or (month == 8 and day <= 22):\n",
        "        return \"Leo\"\n",
        "    elif (month == 8 and day >= 23) or (month == 9 and day <= 22):\n",
        "        return \"Virgo\"\n",
        "    elif (month == 9 and day >= 23) or (month == 10 and day <= 22):\n",
        "        return \"Libra\"\n",
        "    elif (month == 10 and day >= 23) or (month == 11 and day <= 21):\n",
        "        return \"Scorpio\"\n",
        "    elif (month == 11 and day >= 22) or (month == 12 and day <= 21):\n",
        "        return \"Sagittarius\"\n",
        "    elif (month == 12 and day >= 22) or (month == 1 and day <= 19):\n",
        "        return \"Capricorn\"\n",
        "    else:\n",
        "        return \"Invalid date\"\n",
        "\n",
        "# Get the user's birth month and day\n",
        "try:\n",
        "    month = int(input(\"Enter your birth month (1-12): \"))\n",
        "    day = int(input(\"Enter your birth day: \"))\n",
        "\n",
        "    # Validate the month and day input\n",
        "    if month < 1 or month > 12:\n",
        "        print(\"Invalid month. Please enter a value between 1 and 12.\")\n",
        "    elif day < 1 or (month == 2 and day > 29) or (month in [4, 6, 9, 11] and day > 30) or (month in [1, 3, 5, 7, 8, 10, 12] and day > 31):\n",
        "        print(\"Invalid day for the given month.\")\n",
        "    else:\n",
        "        # Determine the zodiac sign\n",
        "        zodiac_sign = get_zodiac_sign(month, day)\n",
        "        print(f\"Your zodiac sign is: {zodiac_sign}\")\n",
        "\n",
        "except ValueError:\n",
        "    print(\"Invalid input. Please enter numeric values for month and day.\")\n"
      ],
      "metadata": {
        "colab": {
          "base_uri": "https://localhost:8080/"
        },
        "id": "D9F36C6ufYQt",
        "outputId": "0435f277-e4ed-4e4a-a0d8-717e1dfe2de7"
      },
      "execution_count": 5,
      "outputs": [
        {
          "output_type": "stream",
          "name": "stdout",
          "text": [
            "Enter your birth month (1-12): 10\n",
            "Enter your birth day: 22\n",
            "Your zodiac sign is: Libra\n"
          ]
        }
      ]
    },
    {
      "cell_type": "code",
      "source": [
        "import re #regular expressions\n",
        "\n",
        "def is_valid_password(password):\n",
        "    # Check for minimum and maximum length\n",
        "    if len(password) < 6 or len(password) > 16:\n",
        "        return False\n",
        "\n",
        "    # Check for at least one lowercase letter\n",
        "    if not re.search(r\"[a-z]\", password):\n",
        "        return False\n",
        "\n",
        "    # Check for at least one uppercase letter\n",
        "    if not re.search(r\"[A-Z]\", password):\n",
        "        return False\n",
        "\n",
        "    # Check for at least one digit\n",
        "    if not re.search(r\"[0-9]\", password):\n",
        "        return False\n",
        "\n",
        "    # Check for at least one special character ($#@)\n",
        "    if not re.search(r\"[$#@]\", password):\n",
        "        return False\n",
        "\n",
        "    return True\n",
        "# Prompt the user to enter a password\n",
        "password = input(\"Enter a password: \")\n",
        "# Check if the password is valid\n",
        "if is_valid_password(password):\n",
        "    print(\"Password is valid.\")\n",
        "else:\n",
        "    print(\"Password is not valid. Ensure it meets the following criteria:\\n\"\n",
        "          \"- At least 6 characters and not more than 16 characters.\\n\"\n",
        "          \"- At least one lowercase letter [a-z].\\n\"\n",
        "          \"- At least one uppercase letter [A-Z].\\n\"\n",
        "          \"- At least one digit [0-9].\\n\"\n",
        "          \"- At least one special character from [$#@].\")\n"
      ],
      "metadata": {
        "colab": {
          "base_uri": "https://localhost:8080/"
        },
        "id": "D7WJTBE4gKj5",
        "outputId": "24d20231-8a59-44ac-e883-33f2f086a756"
      },
      "execution_count": 10,
      "outputs": [
        {
          "output_type": "stream",
          "name": "stdout",
          "text": [
            "Enter a password: Av@1012\n",
            "Password is valid.\n"
          ]
        }
      ]
    },
    {
      "cell_type": "code",
      "source": [
        "import random\n",
        "\n",
        "# Set a random target number between 1 and 100\n",
        "target_number = random.randint(1, 100)\n",
        "\n",
        "print(\"Welcome to the number guessing game!\")\n",
        "print(\"I have selected a number between 1 and 100. Try to guess it!\")\n",
        "\n",
        "# Start a while loop to allow multiple guesses\n",
        "while True:\n",
        "    # Ask the user for their guess\n",
        "    try:\n",
        "        user_guess = int(input(\"Enter your guess: \"))\n",
        "\n",
        "        # Provide feedback on the guess\n",
        "        if user_guess < target_number:\n",
        "            print(\"Too low! Try again.\")\n",
        "        elif user_guess > target_number:\n",
        "            print(\"Too high! Try again.\")\n",
        "        else:\n",
        "            print(f\"Congratulations! You guessed the correct number: {target_number}\")\n",
        "            break  # Exit the loop when the guess is correct\n",
        "    except ValueError:\n",
        "        print(\"Invalid input. Please enter a whole number.\")\n"
      ],
      "metadata": {
        "colab": {
          "base_uri": "https://localhost:8080/"
        },
        "id": "PQr_mUUbhl7r",
        "outputId": "5b85b770-1ad3-4421-d6b2-2aad42ef3552"
      },
      "execution_count": 11,
      "outputs": [
        {
          "output_type": "stream",
          "name": "stdout",
          "text": [
            "Welcome to the number guessing game!\n",
            "I have selected a number between 1 and 100. Try to guess it!\n",
            "Enter your guess: 43\n",
            "Too high! Try again.\n",
            "Enter your guess: 11\n",
            "Too low! Try again.\n",
            "Enter your guess: 22\n",
            "Too low! Try again.\n",
            "Enter your guess: 30\n",
            "Too low! Try again.\n",
            "Enter your guess: 37\n",
            "Too high! Try again.\n",
            "Enter your guess: 35\n",
            "Too high! Try again.\n",
            "Enter your guess: 33\n",
            "Too high! Try again.\n",
            "Enter your guess: 32\n",
            "Too high! Try again.\n",
            "Enter your guess: 31\n",
            "Congratulations! You guessed the correct number: 31\n"
          ]
        }
      ]
    },
    {
      "cell_type": "code",
      "source": [
        "# Function to check if a number is prime\n",
        "def is_prime(n):\n",
        "    if n <= 1:\n",
        "        return False\n",
        "    if n <= 3:\n",
        "        return True  # 2 and 3 are prime numbers\n",
        "    if n % 2 == 0 or n % 3 == 0:\n",
        "        return False  # Multiples of 2 and 3 are not prime\n",
        "\n",
        "    # Check divisibility by all odd numbers from 5 to sqrt(n)\n",
        "    i = 5\n",
        "    while i * i <= n:\n",
        "        if n % i == 0 or n % (i + 2) == 0:\n",
        "            return False\n",
        "        i += 6\n",
        "    return True\n",
        "# Ask the user for a range\n",
        "try:\n",
        "    start = int(input(\"Enter the start of the range: \"))\n",
        "    end = int(input(\"Enter the end of the range: \"))\n",
        "\n",
        "    if start > end:\n",
        "        print(\"Start of the range should be less than or equal to the end.\")\n",
        "    else:\n",
        "        print(f\"Prime numbers between {start} and {end}:\")\n",
        "\n",
        "        # Iterate through the range and print prime numbers\n",
        "        for num in range(start, end + 1):\n",
        "            if is_prime(num):\n",
        "                print(num)\n",
        "            else:\n",
        "                continue  # Continue to the next iteration if not prime\n",
        "except ValueError:\n",
        "    print(\"Invalid input. Please enter whole numbers for the range.\")\n"
      ],
      "metadata": {
        "colab": {
          "base_uri": "https://localhost:8080/"
        },
        "id": "sa_1uM8Xis8d",
        "outputId": "91bf3631-143e-451b-dac5-cf9654afdbec"
      },
      "execution_count": 12,
      "outputs": [
        {
          "output_type": "stream",
          "name": "stdout",
          "text": [
            "Enter the start of the range: 30\n",
            "Enter the end of the range: 70\n",
            "Prime numbers between 30 and 70:\n",
            "31\n",
            "37\n",
            "41\n",
            "43\n",
            "47\n",
            "53\n",
            "59\n",
            "61\n",
            "67\n"
          ]
        }
      ]
    },
    {
      "cell_type": "code",
      "source": [
        "# Define a list of numbers\n",
        "numbers = [22, 11, 10, 40, -27, 25, 35]\n",
        "\n",
        "# Initialize a variable to hold the running sum\n",
        "total_sum = 0\n",
        "\n",
        "# Iterate through the list of numbers\n",
        "for number in numbers:\n",
        "    # If a negative number is encountered, break the loop\n",
        "    if number < 0:\n",
        "        print(f\"Encountered a negative number ({number}). Stopping calculation.\")\n",
        "        break\n",
        "\n",
        "    # Add the current number to the running sum\n",
        "    total_sum += number\n",
        "\n",
        "# Output the current sum\n",
        "print(f\"The sum of the numbers up to the negative value is: {total_sum}\")\n"
      ],
      "metadata": {
        "colab": {
          "base_uri": "https://localhost:8080/"
        },
        "id": "wdF6ahn_jT9T",
        "outputId": "c3b7b85e-7a35-4398-a636-b384530ea793"
      },
      "execution_count": 14,
      "outputs": [
        {
          "output_type": "stream",
          "name": "stdout",
          "text": [
            "Encountered a negative number (-27). Stopping calculation.\n",
            "The sum of the numbers up to the negative value is: 83\n"
          ]
        }
      ]
    },
    {
      "cell_type": "code",
      "source": [
        "# Function to print the Right Pascal's Triangle\n",
        "def print_right_pascals_triangle(rows):\n",
        "    # First part: Increasing triangle\n",
        "    for i in range(1, rows + 1):\n",
        "        # Print numbers from 1 to i\n",
        "        for j in range(1, i + 1):\n",
        "            print(j, end=\" \")  # Print each number followed by a space\n",
        "        print()  # Move to the next line\n",
        "\n",
        "    # Second part: Decreasing triangle\n",
        "    for i in range(rows - 1, 0, -1):\n",
        "        # Print numbers from 1 to i\n",
        "        for j in range(1, i + 1):\n",
        "            print(j, end=\" \")  # Print each number followed by a space\n",
        "        print()  # Move to the next line\n",
        "\n",
        "# Ask the user for the number of rows\n",
        "try:\n",
        "    rows = int(input(\"Enter the number of rows for the Right Pascal's Triangle: \"))\n",
        "\n",
        "    if rows < 1:\n",
        "        print(\"Please enter a positive number of rows.\")\n",
        "    else:\n",
        "        # Print the Right Pascal's Triangle\n",
        "        print_right_pascals_triangle(rows)\n",
        "\n",
        "except ValueError:\n",
        "    print(\"Invalid input. Please enter an integer.\")\n"
      ],
      "metadata": {
        "colab": {
          "base_uri": "https://localhost:8080/"
        },
        "id": "BFth89uwj6sJ",
        "outputId": "055c3991-be83-41ac-ef9a-8bdc8023df96"
      },
      "execution_count": 17,
      "outputs": [
        {
          "output_type": "stream",
          "name": "stdout",
          "text": [
            "Enter the number of rows for the Right Pascal's Triangle: 5\n",
            "1 \n",
            "1 2 \n",
            "1 2 3 \n",
            "1 2 3 4 \n",
            "1 2 3 4 5 \n",
            "1 2 3 4 \n",
            "1 2 3 \n",
            "1 2 \n",
            "1 \n"
          ]
        }
      ]
    },
    {
      "cell_type": "code",
      "source": [
        "# Function to print the left half triangle with sequential numbers\n",
        "def print_left_half_triangle(rows):\n",
        "    # Start with a number and increment it with each iteration\n",
        "    current_number = 1\n",
        "    # Loop through each row\n",
        "    for i in range(1, rows + 1):\n",
        "        # Print the numbers for each row\n",
        "        for j in range(i):\n",
        "            print(current_number, end=\" \")  # Print the current number followed by a space\n",
        "            current_number += 1  # Increment the number\n",
        "        print()  # Move to the next line after each row\n",
        "# Ask the user for the number of rows\n",
        "try:\n",
        "    rows = int(input(\"Enter the number of rows for the left half triangle: \"))\n",
        "\n",
        "    if rows < 1:\n",
        "        print(\"Please enter a positive number of rows.\")\n",
        "    else:\n",
        "        # Print the left half triangle\n",
        "        print_left_half_triangle(rows)\n",
        "except ValueError:\n",
        "    print(\"Invalid input. Please enter an integer.\")\n"
      ],
      "metadata": {
        "colab": {
          "base_uri": "https://localhost:8080/"
        },
        "id": "OnoHrcailim3",
        "outputId": "bc90a12a-4665-4408-9779-2e5681d8cd5a"
      },
      "execution_count": 19,
      "outputs": [
        {
          "output_type": "stream",
          "name": "stdout",
          "text": [
            "Enter the number of rows for the left half triangle: 6\n",
            "1 \n",
            "2 3 \n",
            "4 5 6 \n",
            "7 8 9 10 \n",
            "11 12 13 14 15 \n",
            "16 17 18 19 20 21 \n"
          ]
        }
      ]
    },
    {
      "cell_type": "code",
      "source": [
        "# Function to find numbers divisible by a given divisor within a specified range\n",
        "def print_divisible_numbers(start, end, divisor):\n",
        "    # Loop through the range of numbers\n",
        "    for num in range(start, end + 1):\n",
        "        # Check if the number is divisible by the divisor\n",
        "        if num % divisor == 0:\n",
        "            print(num, end=\" \")  # Print the number followed by a space\n",
        "    print()\n",
        "# Ask the user for two numbers to define the range\n",
        "try:\n",
        "    start = int(input(\"Enter the first number to define the range: \"))\n",
        "    end = int(input(\"Enter the second number to define the range: \"))\n",
        "\n",
        "    if start > end:\n",
        "        # Ensure the first number is less than or equal to the second number\n",
        "        start, end = end, start  # Swap if the start is greater than the end\n",
        "    # Ask for the divisor\n",
        "    divisor = int(input(\"Enter the divisor: \"))\n",
        "    if divisor == 0:\n",
        "        print(\"Divisor cannot be zero.\")\n",
        "    else:\n",
        "        print(f\"Numbers between {start} and {end} that are divisible by {divisor}:\")\n",
        "        # Print the numbers in the range that are divisible by the divisor\n",
        "        print_divisible_numbers(start, end, divisor)\n",
        "except ValueError:\n",
        "    print(\"Invalid input. Please enter valid integers.\")"
      ],
      "metadata": {
        "colab": {
          "base_uri": "https://localhost:8080/"
        },
        "id": "L_4gqC94nMR8",
        "outputId": "5eea8871-2a87-4092-ca13-cba5ef947d15"
      },
      "execution_count": 20,
      "outputs": [
        {
          "output_type": "stream",
          "name": "stdout",
          "text": [
            "Enter the first number to define the range: 1\n",
            "Enter the second number to define the range: 22\n",
            "Enter the divisor: 3\n",
            "Numbers between 1 and 22 that are divisible by 3:\n",
            "3 6 9 12 15 18 21 \n"
          ]
        }
      ]
    },
    {
      "cell_type": "code",
      "source": [
        "# Recursive function to reverse a string\n",
        "def reverse_string(s):\n",
        "    # Base case: if the string is empty or has only one character\n",
        "    if len(s) <= 1:\n",
        "        return s  # A single character or empty string is its own reverse\n",
        "\n",
        "    # Recursive case: reverse the rest of the string and add the first character to the end\n",
        "    return reverse_string(s[1:]) + s[0]\n",
        "\n",
        "\n",
        "input_string = input(\"Enter a string\")\n",
        "reversed_string = reverse_string(input_string)\n",
        "\n",
        "print(f\"Original string: {input_string}\")\n",
        "print(f\"Reversed string: {reversed_string}\")\n"
      ],
      "metadata": {
        "colab": {
          "base_uri": "https://localhost:8080/"
        },
        "id": "J5SW2_Lwn4wp",
        "outputId": "78712494-69fe-4ff9-a621-e681f8627502"
      },
      "execution_count": 22,
      "outputs": [
        {
          "output_type": "stream",
          "name": "stdout",
          "text": [
            "Enter a stringNamaste\n",
            "Original string: Namaste\n",
            "Reversed string: etsamaN\n"
          ]
        }
      ]
    },
    {
      "cell_type": "code",
      "source": [
        "# Function to find the longest word in a given sentence\n",
        "def longest_word(sentence):\n",
        "    # Split the sentence into words based on whitespace\n",
        "    words = sentence.split()\n",
        "    # Initialize variables to track the longest word and its length\n",
        "    longest = \"\"\n",
        "    max_length = 0\n",
        "    # Loop through the words to find the longest one\n",
        "    for word in words:\n",
        "        word_length = len(word)  # Get the length of the current word\n",
        "\n",
        "        if word_length > max_length:\n",
        "            # If the current word is longer, update the longest and max_length\n",
        "            longest = word\n",
        "            max_length = word_length\n",
        "\n",
        "    return longest\n",
        "sentence = input(\"enter the sentence: \")\n",
        "longest = longest_word(sentence)\n",
        "\n",
        "print(f\"The longest word in the sentence '{sentence}' is '{longest}'\")"
      ],
      "metadata": {
        "colab": {
          "base_uri": "https://localhost:8080/"
        },
        "id": "_aU9qxMFpQLT",
        "outputId": "83bd14a9-b0cd-4ad4-d4e0-f31a279f901d"
      },
      "execution_count": 25,
      "outputs": [
        {
          "output_type": "stream",
          "name": "stdout",
          "text": [
            "enter the sentence: i find the universe amusing\n",
            "The longest word in the sentence 'i find the universe amusing' is 'universe'\n"
          ]
        }
      ]
    },
    {
      "cell_type": "code",
      "source": [
        "# Define the custom sorting function\n",
        "def custom_sort(tuples_list):\n",
        "    # Sort by score (descending), then by name (ascending) for ties\n",
        "    return sorted(tuples_list, key=lambda x: (-x[1], x[0]))\n",
        "\n",
        "# Sample input list of tuples (name, score)\n",
        "sample_data = [('Alice', 88), ('Bob', 95), ('Charlie', 88), ('Dave', 95)]\n",
        "\n",
        "# Apply the custom sorting function\n",
        "sorted_list = custom_sort(sample_data)\n",
        "\n",
        "# Output the sorted list\n",
        "print(\"Sorted list:\", sorted_list)\n"
      ],
      "metadata": {
        "colab": {
          "base_uri": "https://localhost:8080/"
        },
        "id": "_gcecjICpwbv",
        "outputId": "3533dcd9-713c-4207-8ef8-6b12caf17ae8"
      },
      "execution_count": 28,
      "outputs": [
        {
          "output_type": "stream",
          "name": "stdout",
          "text": [
            "Sorted list: [('Bob', 95), ('Dave', 95), ('Alice', 88), ('Charlie', 88)]\n"
          ]
        }
      ]
    },
    {
      "cell_type": "code",
      "source": [
        "# Function to transform a given string as specified\n",
        "def transform_string(s):\n",
        "    # Initialize an empty list\n",
        "    transformed = []\n",
        "    # Variable to keep track of whether the letter should be capitalized\n",
        "    capitalize = True\n",
        "    # Iterate through each character in the input string\n",
        "    for char in s:\n",
        "        if char.isalpha():\n",
        "            if capitalize:\n",
        "                transformed.append(char.upper())  # Capitalize\n",
        "            else:\n",
        "                transformed.append(char.lower())  # Keep the letter in lowercase\n",
        "            # Toggle capitalization for the next letter\n",
        "            capitalize = not capitalize\n",
        "        elif char == \" \":  # If it's a space, replace it with a hyphen\n",
        "            transformed.append(\"-\")\n",
        "        else:\n",
        "            # If it's any other character, just add it to the list\n",
        "            transformed.append(char)\n",
        "    # Join the list to form the transformed string\n",
        "    return \"\".join(transformed)\n",
        "# Ask the user for a string to transform\n",
        "user_input = input(\"Enter a string to transform: \")\n",
        "\n",
        "# Transform the input string\n",
        "result = transform_string(user_input)\n",
        "\n",
        "# Output the transformed string\n",
        "print(\"Transformed string:\", result)"
      ],
      "metadata": {
        "colab": {
          "base_uri": "https://localhost:8080/"
        },
        "id": "XQ0tHKM2qVdv",
        "outputId": "8557684f-39ab-4b98-e2ec-5f2ed5ac7f94"
      },
      "execution_count": 29,
      "outputs": [
        {
          "output_type": "stream",
          "name": "stdout",
          "text": [
            "Enter a string to transform: Surrounding\n",
            "Transformed string: SuRrOuNdInG\n"
          ]
        }
      ]
    },
    {
      "cell_type": "code",
      "source": [
        "# Function to simulate renaming files with a given template\n",
        "def simulate_file_renaming(filenames, name_template):\n",
        "    # Count the number of \"#\" in the template to determine the number of digits for numbering\n",
        "    num_placeholders = name_template.count(\"#\")\n",
        "\n",
        "    # Split the template at the \"#\" to insert numbers\n",
        "    parts = name_template.split(\"#\" * num_placeholders)\n",
        "\n",
        "    # Generate new filenames based on the given template\n",
        "    new_filenames = []\n",
        "    for i, filename in enumerate(filenames):\n",
        "        # Format the number with leading zeros according to the number of placeholders\n",
        "        formatted_number = f\"{i + 1:0{num_placeholders}}\"\n",
        "\n",
        "        # Construct the new name by inserting the formatted number into the template\n",
        "        new_filename = parts[0] + formatted_number + parts[1]\n",
        "\n",
        "        # Keep the original file extension\n",
        "        original_extension = filename.split(\".\")[-1]\n",
        "        new_filename += f\".{original_extension}\"\n",
        "\n",
        "        new_filenames.append(new_filename)\n",
        "\n",
        "    return new_filenames\n",
        "\n",
        "# Example usage\n",
        "filenames = ['a.jpg', 'b.jpg', 'c.jpg']\n",
        "template = \"photo_###\"\n",
        "\n",
        "renamed_files = simulate_file_renaming(filenames, template)\n",
        "\n",
        "print(\"Original filenames:\", filenames)\n",
        "print(\"Renamed files:\", renamed_files)"
      ],
      "metadata": {
        "colab": {
          "base_uri": "https://localhost:8080/"
        },
        "id": "ZScFEHxqrEv2",
        "outputId": "b765fae7-8aad-4363-960e-0d4a3fa1b8fb"
      },
      "execution_count": 30,
      "outputs": [
        {
          "output_type": "stream",
          "name": "stdout",
          "text": [
            "Original filenames: ['a.jpg', 'b.jpg', 'c.jpg']\n",
            "Renamed files: ['photo_001.jpg', 'photo_002.jpg', 'photo_003.jpg']\n"
          ]
        }
      ]
    },
    {
      "cell_type": "code",
      "source": [
        "# Function to group anagrams\n",
        "def group_anagrams(words):\n",
        "    # Dictionary to hold groups of anagrams\n",
        "    anagram_groups = {}\n",
        "\n",
        "    # Iterate through each word in the list\n",
        "    for word in words:\n",
        "        # Sort the characters of the word to create a key\n",
        "        key = \"\".join(sorted(word))\n",
        "\n",
        "        # If the key is not in the dictionary, create a new list for this group\n",
        "        if key not in anagram_groups:\n",
        "            anagram_groups[key] = []\n",
        "\n",
        "        # Add the word to the correct group\n",
        "        anagram_groups[key].append(word)\n",
        "\n",
        "    # Return the values of the dictionary as a list of lists\n",
        "    return list(anagram_groups.values())\n",
        "\n",
        "# Test the function with example input\n",
        "words1 = [\"eat\", \"tea\", \"tan\", \"ate\", \"nat\", \"bat\"]\n",
        "grouped_anagrams1 = group_anagrams(words1)\n",
        "print(\"Output 1:\", grouped_anagrams1)\n",
        "\n",
        "words2 = [\"listen\", \"silent\", \"top\", \"pot\", \"hello\", \"world\"]\n",
        "grouped_anagrams2 = group_anagrams(words2)\n",
        "print(\"Output 2:\", grouped_anagrams2)"
      ],
      "metadata": {
        "colab": {
          "base_uri": "https://localhost:8080/"
        },
        "id": "AtTN9dC8r0bU",
        "outputId": "e8cddb72-0ffc-4975-af3e-f295d595680e"
      },
      "execution_count": 31,
      "outputs": [
        {
          "output_type": "stream",
          "name": "stdout",
          "text": [
            "Output 1: [['eat', 'tea', 'ate'], ['tan', 'nat'], ['bat']]\n",
            "Output 2: [['listen', 'silent'], ['top', 'pot'], ['hello'], ['world']]\n"
          ]
        }
      ]
    },
    {
      "cell_type": "code",
      "source": [
        "# Function to find the maximum subarray sum using Kadane's algorithm\n",
        "def max_subarray_sum(arr):\n",
        "    # Initialize variables to keep track of the maximum sum and current sum\n",
        "    max_sum = float('-inf')  # Start with the smallest possible value\n",
        "    current_sum = 0\n",
        "\n",
        "    # Loop through each element in the list\n",
        "    for num in arr:\n",
        "        # Add the current number to the current sum\n",
        "        current_sum += num\n",
        "\n",
        "        # Update the max sum if the current sum is greater\n",
        "        if current_sum > max_sum:\n",
        "            max_sum = current_sum\n",
        "\n",
        "        # If the current sum becomes negative, reset it to zero\n",
        "        if current_sum < 0:\n",
        "            current_sum = 0\n",
        "    return max_sum\n",
        "# Test cases\n",
        "test1 = [-2, 1, -3, 4, -1, 2, 1, -5, 4]\n",
        "result1 = max_subarray_sum(test1)\n",
        "print(\"Output 1:\", result1)  # Expected: 6 (subarray [4, -1, 2, 1])\n",
        "\n",
        "test2 = [1, 2, 3, 4, 5]\n",
        "result2 = max_subarray_sum(test2)\n",
        "print(\"Output 2:\", result2)  # Expected: 15 (subarray [1, 2, 3, 4, 5])"
      ],
      "metadata": {
        "colab": {
          "base_uri": "https://localhost:8080/"
        },
        "id": "sed88zZfsUlg",
        "outputId": "51518ec8-7384-4fc0-e059-7bbc516e988b"
      },
      "execution_count": 32,
      "outputs": [
        {
          "output_type": "stream",
          "name": "stdout",
          "text": [
            "Output 1: 6\n",
            "Output 2: 15\n"
          ]
        }
      ]
    },
    {
      "cell_type": "code",
      "source": [
        "# Function to perform a sequential search\n",
        "def sequential_search(lst, target):\n",
        "    # Iterate over the list with indices and elements\n",
        "    for index, item in enumerate(lst):\n",
        "        # If the current item matches the target, return the index\n",
        "        if item == target:\n",
        "            return index\n",
        "\n",
        "    # If the loop completes and the target is not found, return -1\n",
        "    return -1\n",
        "\n",
        "# Example usage\n",
        "sample_list = [5, 3, 7, 1, 9]\n",
        "target = 7\n",
        "# Perform the sequential search\n",
        "result = sequential_search(sample_list, target)\n",
        "# Output the result\n",
        "print(f\"Index of target {target}:\", result)"
      ],
      "metadata": {
        "colab": {
          "base_uri": "https://localhost:8080/"
        },
        "id": "Yy6nXarasv8H",
        "outputId": "0f9a3ff0-0d52-4810-bf62-c615bb00c073"
      },
      "execution_count": 33,
      "outputs": [
        {
          "output_type": "stream",
          "name": "stdout",
          "text": [
            "Index of target 7: 2\n"
          ]
        }
      ]
    },
    {
      "cell_type": "code",
      "source": [
        "def encode(strings):\n",
        "  encoded_strings = []\n",
        "  for string in strings:\n",
        "    length = len(string)\n",
        "    encoded_strings.append(f\"{length}#{string}\")\n",
        "  return \"\".join(encoded_strings)\n",
        "\n",
        "def decode(encoded_string):\n",
        "  decoded_strings = []\n",
        "  start = 0\n",
        "  while start < len(encoded_string):\n",
        "    hash_index = encoded_string.find(\"#\", start)\n",
        "    length = int(encoded_string[start:hash_index])\n",
        "    end = hash_index + length + 1\n",
        "    decoded_strings.append(encoded_string[hash_index + 1:end])\n",
        "    start = end\n",
        "  return decoded_strings\n",
        "\n",
        "# Test cases\n",
        "print(encode([\"hello\", \"world\"]))  # Output: 5#hello5#world\n",
        "print(decode(\"3#abc3#def3#ghi\"))  # Output: [\"abc\", \"def\", \"ghi\"]\n"
      ],
      "metadata": {
        "colab": {
          "base_uri": "https://localhost:8080/"
        },
        "id": "-2EMFAkItGux",
        "outputId": "97157205-ed03-43f1-f984-e037934f5890"
      },
      "execution_count": 34,
      "outputs": [
        {
          "output_type": "stream",
          "name": "stdout",
          "text": [
            "5#hello5#world\n",
            "['abc', 'def', 'ghi']\n"
          ]
        }
      ]
    },
    {
      "cell_type": "code",
      "source": [],
      "metadata": {
        "id": "VSoIOFnquW5U"
      },
      "execution_count": null,
      "outputs": []
    }
  ]
}